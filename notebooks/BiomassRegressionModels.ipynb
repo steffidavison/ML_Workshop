{
 "cells": [
  {
   "cell_type": "code",
   "execution_count": 1,
   "id": "439316e4-7f3e-4137-88a8-1c8b33e1ca5f",
   "metadata": {},
   "outputs": [
    {
     "data": {
      "text/plain": [
       "'/Users/pjk/Wunderkammer/AntheiaWorkshop/notebooks'"
      ]
     },
     "execution_count": 1,
     "metadata": {},
     "output_type": "execute_result"
    }
   ],
   "source": [
    "import os\n",
    "os.getcwd()"
   ]
  },
  {
   "cell_type": "code",
   "execution_count": 45,
   "id": "8e56ebd9-9c2e-4066-81e3-2aade6fda076",
   "metadata": {},
   "outputs": [],
   "source": [
    "import pandas as pd\n",
    "from random import random\n",
    "from random import randint\n",
    "from random import seed\n",
    "import numpy as np\n",
    "from numpy import arange\n",
    "from numpy import mean\n",
    "from numpy import std\n",
    "from numpy import absolute\n",
    "import xgboost as xgb\n",
    "from sklearn.datasets import make_regression\n",
    "from sklearn.linear_model import LinearRegression\n",
    "from sklearn.model_selection import cross_val_score\n",
    "from sklearn.model_selection import train_test_split\n",
    "from sklearn.model_selection import RepeatedKFold\n",
    "from sklearn.preprocessing import StandardScaler\n",
    "from sklearn.metrics import mean_squared_error, r2_score\n",
    "from sklearn.linear_model import HuberRegressor\n",
    "from sklearn.linear_model import RANSACRegressor\n",
    "from sklearn.linear_model import TheilSenRegressor\n",
    "from sklearn.svm import SVR\n",
    "from sklearn import model_selection\n",
    "\n",
    "from matplotlib import pyplot\n",
    "import matplotlib.pyplot as plt\n",
    "from plotnine import *"
   ]
  },
  {
   "cell_type": "code",
   "execution_count": 3,
   "id": "19a5e5be-8c88-492c-b0e1-8865ad62c559",
   "metadata": {},
   "outputs": [],
   "source": [
    "df = pd.read_csv('../data/FermentationBiomassProduction.csv')"
   ]
  },
  {
   "cell_type": "code",
   "execution_count": 4,
   "id": "d06bbecc-cd4b-4fe3-879d-332f616f4209",
   "metadata": {},
   "outputs": [],
   "source": [
    "df = df.dropna()"
   ]
  },
  {
   "cell_type": "code",
   "execution_count": 5,
   "id": "944164cf-3814-4c14-993f-d3b3bfdc2ab1",
   "metadata": {},
   "outputs": [],
   "source": [
    "df = df.drop(['Unnamed: 0', 'Reference year'], axis=1)"
   ]
  },
  {
   "cell_type": "code",
   "execution_count": 6,
   "id": "7eefb9a9-8da3-4282-b12c-33047fdd0512",
   "metadata": {},
   "outputs": [
    {
     "data": {
      "text/html": [
       "<div>\n",
       "<style scoped>\n",
       "    .dataframe tbody tr th:only-of-type {\n",
       "        vertical-align: middle;\n",
       "    }\n",
       "\n",
       "    .dataframe tbody tr th {\n",
       "        vertical-align: top;\n",
       "    }\n",
       "\n",
       "    .dataframe thead th {\n",
       "        text-align: right;\n",
       "    }\n",
       "</style>\n",
       "<table border=\"1\" class=\"dataframe\">\n",
       "  <thead>\n",
       "    <tr style=\"text-align: right;\">\n",
       "      <th></th>\n",
       "      <th>Inoculum size (cell/ml)</th>\n",
       "      <th>COD (g/L)</th>\n",
       "      <th>Oil and grease (g/L)</th>\n",
       "      <th>TKN</th>\n",
       "      <th>Olive oil (%)</th>\n",
       "      <th>Glucose (g/L)</th>\n",
       "      <th>Crude glycerol (%)</th>\n",
       "      <th>Tween 20 (%)</th>\n",
       "      <th>Tween 80 (%)</th>\n",
       "      <th>Peptone (g/L)</th>\n",
       "      <th>...</th>\n",
       "      <th>Magnesium chloride (g/l)</th>\n",
       "      <th>Iron(III) chloride (g/l)</th>\n",
       "      <th>Potassium Di-hydrogen phosphate (g/l)</th>\n",
       "      <th>Calcium chloride (g/l)</th>\n",
       "      <th>Sodium chloride (g/l)</th>\n",
       "      <th>Temp (C)</th>\n",
       "      <th>Shakin g rate (rpm)</th>\n",
       "      <th>pH</th>\n",
       "      <th>Time (h)</th>\n",
       "      <th>Biomass (g/l)</th>\n",
       "    </tr>\n",
       "  </thead>\n",
       "  <tbody>\n",
       "    <tr>\n",
       "      <th>181</th>\n",
       "      <td>100000000.0</td>\n",
       "      <td>101.000</td>\n",
       "      <td>4.95</td>\n",
       "      <td>0.0</td>\n",
       "      <td>0</td>\n",
       "      <td>0</td>\n",
       "      <td>1.860</td>\n",
       "      <td>0</td>\n",
       "      <td>0</td>\n",
       "      <td>0</td>\n",
       "      <td>...</td>\n",
       "      <td>0.0</td>\n",
       "      <td>0.0</td>\n",
       "      <td>0.0</td>\n",
       "      <td>0.0</td>\n",
       "      <td>0</td>\n",
       "      <td>30</td>\n",
       "      <td>140</td>\n",
       "      <td>6.0</td>\n",
       "      <td>69</td>\n",
       "      <td>6.18</td>\n",
       "    </tr>\n",
       "    <tr>\n",
       "      <th>130</th>\n",
       "      <td>100000000.0</td>\n",
       "      <td>112.594</td>\n",
       "      <td>0.00</td>\n",
       "      <td>0.0</td>\n",
       "      <td>0</td>\n",
       "      <td>0</td>\n",
       "      <td>4.000</td>\n",
       "      <td>0</td>\n",
       "      <td>0</td>\n",
       "      <td>0</td>\n",
       "      <td>...</td>\n",
       "      <td>0.0</td>\n",
       "      <td>0.0</td>\n",
       "      <td>0.0</td>\n",
       "      <td>0.0</td>\n",
       "      <td>0</td>\n",
       "      <td>30</td>\n",
       "      <td>140</td>\n",
       "      <td>6.0</td>\n",
       "      <td>36</td>\n",
       "      <td>2.64</td>\n",
       "    </tr>\n",
       "    <tr>\n",
       "      <th>246</th>\n",
       "      <td>100000000.0</td>\n",
       "      <td>10.100</td>\n",
       "      <td>0.33</td>\n",
       "      <td>0.0</td>\n",
       "      <td>0</td>\n",
       "      <td>0</td>\n",
       "      <td>0.124</td>\n",
       "      <td>0</td>\n",
       "      <td>0</td>\n",
       "      <td>0</td>\n",
       "      <td>...</td>\n",
       "      <td>0.0</td>\n",
       "      <td>0.0</td>\n",
       "      <td>0.0</td>\n",
       "      <td>0.0</td>\n",
       "      <td>0</td>\n",
       "      <td>30</td>\n",
       "      <td>140</td>\n",
       "      <td>6.0</td>\n",
       "      <td>0</td>\n",
       "      <td>0.73</td>\n",
       "    </tr>\n",
       "    <tr>\n",
       "      <th>56</th>\n",
       "      <td>100000000.0</td>\n",
       "      <td>0.000</td>\n",
       "      <td>0.00</td>\n",
       "      <td>0.0</td>\n",
       "      <td>0</td>\n",
       "      <td>40</td>\n",
       "      <td>0.000</td>\n",
       "      <td>0</td>\n",
       "      <td>0</td>\n",
       "      <td>5</td>\n",
       "      <td>...</td>\n",
       "      <td>0.0</td>\n",
       "      <td>0.0</td>\n",
       "      <td>0.0</td>\n",
       "      <td>0.0</td>\n",
       "      <td>0</td>\n",
       "      <td>30</td>\n",
       "      <td>140</td>\n",
       "      <td>6.0</td>\n",
       "      <td>72</td>\n",
       "      <td>8.65</td>\n",
       "    </tr>\n",
       "    <tr>\n",
       "      <th>77</th>\n",
       "      <td>100000000.0</td>\n",
       "      <td>37.210</td>\n",
       "      <td>0.00</td>\n",
       "      <td>0.0</td>\n",
       "      <td>0</td>\n",
       "      <td>0</td>\n",
       "      <td>0.000</td>\n",
       "      <td>0</td>\n",
       "      <td>0</td>\n",
       "      <td>0</td>\n",
       "      <td>...</td>\n",
       "      <td>0.0</td>\n",
       "      <td>0.0</td>\n",
       "      <td>0.0</td>\n",
       "      <td>0.0</td>\n",
       "      <td>0</td>\n",
       "      <td>30</td>\n",
       "      <td>140</td>\n",
       "      <td>6.0</td>\n",
       "      <td>72</td>\n",
       "      <td>5.15</td>\n",
       "    </tr>\n",
       "  </tbody>\n",
       "</table>\n",
       "<p>5 rows × 26 columns</p>\n",
       "</div>"
      ],
      "text/plain": [
       "     Inoculum size (cell/ml)  COD (g/L)  Oil and grease (g/L)  TKN  \\\n",
       "181              100000000.0    101.000                  4.95  0.0   \n",
       "130              100000000.0    112.594                  0.00  0.0   \n",
       "246              100000000.0     10.100                  0.33  0.0   \n",
       "56               100000000.0      0.000                  0.00  0.0   \n",
       "77               100000000.0     37.210                  0.00  0.0   \n",
       "\n",
       "     Olive oil (%)  Glucose (g/L)  Crude glycerol (%)  Tween 20 (%)  \\\n",
       "181              0              0               1.860             0   \n",
       "130              0              0               4.000             0   \n",
       "246              0              0               0.124             0   \n",
       "56               0             40               0.000             0   \n",
       "77               0              0               0.000             0   \n",
       "\n",
       "     Tween 80 (%)  Peptone (g/L)  ...  Magnesium chloride (g/l)  \\\n",
       "181             0              0  ...                       0.0   \n",
       "130             0              0  ...                       0.0   \n",
       "246             0              0  ...                       0.0   \n",
       "56              0              5  ...                       0.0   \n",
       "77              0              0  ...                       0.0   \n",
       "\n",
       "     Iron(III) chloride (g/l)  Potassium Di-hydrogen phosphate (g/l)  \\\n",
       "181                       0.0                                    0.0   \n",
       "130                       0.0                                    0.0   \n",
       "246                       0.0                                    0.0   \n",
       "56                        0.0                                    0.0   \n",
       "77                        0.0                                    0.0   \n",
       "\n",
       "     Calcium chloride (g/l)  Sodium chloride (g/l)  Temp (C)  \\\n",
       "181                     0.0                      0        30   \n",
       "130                     0.0                      0        30   \n",
       "246                     0.0                      0        30   \n",
       "56                      0.0                      0        30   \n",
       "77                      0.0                      0        30   \n",
       "\n",
       "     Shakin g rate (rpm)   pH  Time (h)  Biomass (g/l)  \n",
       "181                  140  6.0        69           6.18  \n",
       "130                  140  6.0        36           2.64  \n",
       "246                  140  6.0         0           0.73  \n",
       "56                   140  6.0        72           8.65  \n",
       "77                   140  6.0        72           5.15  \n",
       "\n",
       "[5 rows x 26 columns]"
      ]
     },
     "execution_count": 6,
     "metadata": {},
     "output_type": "execute_result"
    }
   ],
   "source": [
    "df.sample(5)"
   ]
  },
  {
   "cell_type": "code",
   "execution_count": 8,
   "id": "2bee42b7-ffc2-430c-9330-ad32a0de7186",
   "metadata": {},
   "outputs": [
    {
     "name": "stdout",
     "output_type": "stream",
     "text": [
      "(277, 25) (277,)\n"
     ]
    }
   ],
   "source": [
    "# split into input and output elements\n",
    "X, y = df.iloc[:, :-1], df.iloc[:, -1]\n",
    "print(X.shape, y.shape)"
   ]
  },
  {
   "cell_type": "markdown",
   "id": "34d28fe2-63dc-4d33-b6d5-d663696a213f",
   "metadata": {},
   "source": [
    "Alternatively ..."
   ]
  },
  {
   "cell_type": "code",
   "execution_count": 12,
   "id": "269c6b61-6c1d-4300-bf74-834677573b0b",
   "metadata": {},
   "outputs": [
    {
     "name": "stdout",
     "output_type": "stream",
     "text": [
      "(277, 25) (277,)\n"
     ]
    }
   ],
   "source": [
    "XX = df.drop(['Biomass (g/l)'], axis=1)\n",
    "yy = df['Biomass (g/l)']\n",
    "print(XX.shape, yy.shape)"
   ]
  },
  {
   "cell_type": "code",
   "execution_count": 13,
   "id": "f8291ed7-ca18-41b1-a040-568b3c73b219",
   "metadata": {},
   "outputs": [],
   "source": [
    "X_train, X_test, y_train, y_test = train_test_split(X, y, test_size = 0.2 , random_state = 42)"
   ]
  },
  {
   "cell_type": "code",
   "execution_count": 14,
   "id": "0d7a6716-3665-41d6-8eba-1dcd79bed3aa",
   "metadata": {},
   "outputs": [
    {
     "data": {
      "text/html": [
       "<div>\n",
       "<style scoped>\n",
       "    .dataframe tbody tr th:only-of-type {\n",
       "        vertical-align: middle;\n",
       "    }\n",
       "\n",
       "    .dataframe tbody tr th {\n",
       "        vertical-align: top;\n",
       "    }\n",
       "\n",
       "    .dataframe thead th {\n",
       "        text-align: right;\n",
       "    }\n",
       "</style>\n",
       "<table border=\"1\" class=\"dataframe\">\n",
       "  <thead>\n",
       "    <tr style=\"text-align: right;\">\n",
       "      <th></th>\n",
       "      <th>Inoculum size (cell/ml)</th>\n",
       "      <th>COD (g/L)</th>\n",
       "      <th>Oil and grease (g/L)</th>\n",
       "      <th>TKN</th>\n",
       "      <th>Olive oil (%)</th>\n",
       "      <th>Glucose (g/L)</th>\n",
       "      <th>Crude glycerol (%)</th>\n",
       "      <th>Tween 20 (%)</th>\n",
       "      <th>Tween 80 (%)</th>\n",
       "      <th>Peptone (g/L)</th>\n",
       "      <th>...</th>\n",
       "      <th>Di- potassium hydrogen phosphat e (g/l)</th>\n",
       "      <th>Magnesium chloride (g/l)</th>\n",
       "      <th>Iron(III) chloride (g/l)</th>\n",
       "      <th>Potassium Di-hydrogen phosphate (g/l)</th>\n",
       "      <th>Calcium chloride (g/l)</th>\n",
       "      <th>Sodium chloride (g/l)</th>\n",
       "      <th>Temp (C)</th>\n",
       "      <th>Shakin g rate (rpm)</th>\n",
       "      <th>pH</th>\n",
       "      <th>Time (h)</th>\n",
       "    </tr>\n",
       "  </thead>\n",
       "  <tbody>\n",
       "    <tr>\n",
       "      <th>292</th>\n",
       "      <td>250000000.0</td>\n",
       "      <td>0.000</td>\n",
       "      <td>0.000</td>\n",
       "      <td>0.0000</td>\n",
       "      <td>0</td>\n",
       "      <td>0</td>\n",
       "      <td>4.60</td>\n",
       "      <td>0</td>\n",
       "      <td>0</td>\n",
       "      <td>0</td>\n",
       "      <td>...</td>\n",
       "      <td>0.0</td>\n",
       "      <td>0.0</td>\n",
       "      <td>0.0</td>\n",
       "      <td>0.0</td>\n",
       "      <td>0.0</td>\n",
       "      <td>0</td>\n",
       "      <td>28</td>\n",
       "      <td>180</td>\n",
       "      <td>6.5</td>\n",
       "      <td>0</td>\n",
       "    </tr>\n",
       "    <tr>\n",
       "      <th>131</th>\n",
       "      <td>100000000.0</td>\n",
       "      <td>112.594</td>\n",
       "      <td>0.000</td>\n",
       "      <td>0.0000</td>\n",
       "      <td>0</td>\n",
       "      <td>0</td>\n",
       "      <td>4.00</td>\n",
       "      <td>0</td>\n",
       "      <td>0</td>\n",
       "      <td>0</td>\n",
       "      <td>...</td>\n",
       "      <td>0.0</td>\n",
       "      <td>0.0</td>\n",
       "      <td>0.0</td>\n",
       "      <td>0.0</td>\n",
       "      <td>0.0</td>\n",
       "      <td>0</td>\n",
       "      <td>30</td>\n",
       "      <td>140</td>\n",
       "      <td>6.0</td>\n",
       "      <td>48</td>\n",
       "    </tr>\n",
       "    <tr>\n",
       "      <th>33</th>\n",
       "      <td>100000000.0</td>\n",
       "      <td>42.500</td>\n",
       "      <td>0.241</td>\n",
       "      <td>0.1825</td>\n",
       "      <td>0</td>\n",
       "      <td>0</td>\n",
       "      <td>0.00</td>\n",
       "      <td>0</td>\n",
       "      <td>0</td>\n",
       "      <td>0</td>\n",
       "      <td>...</td>\n",
       "      <td>0.0</td>\n",
       "      <td>0.0</td>\n",
       "      <td>0.0</td>\n",
       "      <td>0.0</td>\n",
       "      <td>0.0</td>\n",
       "      <td>0</td>\n",
       "      <td>30</td>\n",
       "      <td>140</td>\n",
       "      <td>5.0</td>\n",
       "      <td>60</td>\n",
       "    </tr>\n",
       "    <tr>\n",
       "      <th>88</th>\n",
       "      <td>100000000.0</td>\n",
       "      <td>37.210</td>\n",
       "      <td>0.000</td>\n",
       "      <td>0.0000</td>\n",
       "      <td>0</td>\n",
       "      <td>0</td>\n",
       "      <td>0.00</td>\n",
       "      <td>0</td>\n",
       "      <td>0</td>\n",
       "      <td>0</td>\n",
       "      <td>...</td>\n",
       "      <td>0.0</td>\n",
       "      <td>0.0</td>\n",
       "      <td>0.0</td>\n",
       "      <td>0.0</td>\n",
       "      <td>0.0</td>\n",
       "      <td>0</td>\n",
       "      <td>30</td>\n",
       "      <td>140</td>\n",
       "      <td>6.0</td>\n",
       "      <td>36</td>\n",
       "    </tr>\n",
       "    <tr>\n",
       "      <th>296</th>\n",
       "      <td>250000000.0</td>\n",
       "      <td>0.000</td>\n",
       "      <td>0.000</td>\n",
       "      <td>0.0000</td>\n",
       "      <td>0</td>\n",
       "      <td>0</td>\n",
       "      <td>3.95</td>\n",
       "      <td>0</td>\n",
       "      <td>0</td>\n",
       "      <td>0</td>\n",
       "      <td>...</td>\n",
       "      <td>0.0</td>\n",
       "      <td>0.0</td>\n",
       "      <td>0.0</td>\n",
       "      <td>0.0</td>\n",
       "      <td>0.0</td>\n",
       "      <td>0</td>\n",
       "      <td>28</td>\n",
       "      <td>180</td>\n",
       "      <td>6.5</td>\n",
       "      <td>48</td>\n",
       "    </tr>\n",
       "  </tbody>\n",
       "</table>\n",
       "<p>5 rows × 25 columns</p>\n",
       "</div>"
      ],
      "text/plain": [
       "     Inoculum size (cell/ml)  COD (g/L)  Oil and grease (g/L)     TKN  \\\n",
       "292              250000000.0      0.000                 0.000  0.0000   \n",
       "131              100000000.0    112.594                 0.000  0.0000   \n",
       "33               100000000.0     42.500                 0.241  0.1825   \n",
       "88               100000000.0     37.210                 0.000  0.0000   \n",
       "296              250000000.0      0.000                 0.000  0.0000   \n",
       "\n",
       "     Olive oil (%)  Glucose (g/L)  Crude glycerol (%)  Tween 20 (%)  \\\n",
       "292              0              0                4.60             0   \n",
       "131              0              0                4.00             0   \n",
       "33               0              0                0.00             0   \n",
       "88               0              0                0.00             0   \n",
       "296              0              0                3.95             0   \n",
       "\n",
       "     Tween 80 (%)  Peptone (g/L)  ...  \\\n",
       "292             0              0  ...   \n",
       "131             0              0  ...   \n",
       "33              0              0  ...   \n",
       "88              0              0  ...   \n",
       "296             0              0  ...   \n",
       "\n",
       "     Di- potassium hydrogen phosphat e (g/l)  Magnesium chloride (g/l)  \\\n",
       "292                                      0.0                       0.0   \n",
       "131                                      0.0                       0.0   \n",
       "33                                       0.0                       0.0   \n",
       "88                                       0.0                       0.0   \n",
       "296                                      0.0                       0.0   \n",
       "\n",
       "     Iron(III) chloride (g/l)  Potassium Di-hydrogen phosphate (g/l)  \\\n",
       "292                       0.0                                    0.0   \n",
       "131                       0.0                                    0.0   \n",
       "33                        0.0                                    0.0   \n",
       "88                        0.0                                    0.0   \n",
       "296                       0.0                                    0.0   \n",
       "\n",
       "     Calcium chloride (g/l)  Sodium chloride (g/l)  Temp (C)  \\\n",
       "292                     0.0                      0        28   \n",
       "131                     0.0                      0        30   \n",
       "33                      0.0                      0        30   \n",
       "88                      0.0                      0        30   \n",
       "296                     0.0                      0        28   \n",
       "\n",
       "     Shakin g rate (rpm)   pH  Time (h)  \n",
       "292                  180  6.5         0  \n",
       "131                  140  6.0        48  \n",
       "33                   140  5.0        60  \n",
       "88                   140  6.0        36  \n",
       "296                  180  6.5        48  \n",
       "\n",
       "[5 rows x 25 columns]"
      ]
     },
     "execution_count": 14,
     "metadata": {},
     "output_type": "execute_result"
    }
   ],
   "source": [
    "X_train.head()"
   ]
  },
  {
   "cell_type": "code",
   "execution_count": 15,
   "id": "57c0d431-c4e7-44d1-82f4-7d5df3cc6dd8",
   "metadata": {},
   "outputs": [
    {
     "data": {
      "text/plain": [
       "292    0.90\n",
       "131    3.27\n",
       "33     6.36\n",
       "88     2.73\n",
       "296    8.71\n",
       "Name: Biomass (g/l), dtype: float64"
      ]
     },
     "execution_count": 15,
     "metadata": {},
     "output_type": "execute_result"
    }
   ],
   "source": [
    "y_train.head()"
   ]
  },
  {
   "cell_type": "markdown",
   "id": "61b80cf6-6d2e-4aff-a8b1-79353a86be5c",
   "metadata": {},
   "source": [
    "## Linear Regression"
   ]
  },
  {
   "cell_type": "code",
   "execution_count": 16,
   "id": "42b37ae5-1735-40a7-9558-519270937987",
   "metadata": {},
   "outputs": [],
   "source": [
    "model = c\n",
    "\n",
    "# Scaling is optional but recommended in most cases for better model performance\n",
    "scaler = StandardScaler()\n",
    "X_train_scaled = scaler.fit_transform(X_train)\n",
    "X_test_scaled = scaler.transform(X_test)"
   ]
  },
  {
   "cell_type": "code",
   "execution_count": 18,
   "id": "f13a9a6a-a7a3-43cc-9be2-2ead9d99e4a3",
   "metadata": {},
   "outputs": [],
   "source": [
    "# Training the linear regression model\n",
    "lr_model = LinearRegression()\n",
    "lr_model.fit(X_train_scaled, y_train)\n",
    "y_pred_lr = lr_model.predict(X_test_scaled)"
   ]
  },
  {
   "cell_type": "code",
   "execution_count": 19,
   "id": "9ec57d2b-2afe-4aec-8da9-bf2e54f69eed",
   "metadata": {},
   "outputs": [
    {
     "name": "stdout",
     "output_type": "stream",
     "text": [
      "Linear Regression:\n",
      "  RMSE: 1.375499799532297\n",
      "  R²: 0.7913715826255447\n"
     ]
    }
   ],
   "source": [
    "print(\"Linear Regression:\")\n",
    "print(\"  RMSE:\", np.sqrt(mean_squared_error(y_test, y_pred_lr)))\n",
    "print(\"  R²:\", r2_score(y_test, y_pred_lr))"
   ]
  },
  {
   "cell_type": "code",
   "execution_count": 20,
   "id": "92eda64b-8451-4537-a881-de314517fed0",
   "metadata": {},
   "outputs": [
    {
     "name": "stdout",
     "output_type": "stream",
     "text": [
      "1.0260825099674025 0.04723478679477025\n"
     ]
    }
   ],
   "source": [
    "slope, intercept = np.polyfit(y_pred_lr, y_test, 1)\n",
    "print(slope, intercept)"
   ]
  },
  {
   "cell_type": "code",
   "execution_count": 24,
   "id": "406a4b67-3f8c-4659-be32-080dae53d2b6",
   "metadata": {},
   "outputs": [
    {
     "data": {
      "image/png": "[encoded data removed]",
      "text/plain": [
       "<Figure size 640x480 with 1 Axes>"
      ]
     },
     "metadata": {},
     "output_type": "display_data"
    }
   ],
   "source": [
    "# Create scatter plot\n",
    "plt.scatter(y_pred_lr, y_test, color='blue')\n",
    "\n",
    "x_fit = np.linspace(y_pred_lr.min(), y_pred_lr.max(), 100)\n",
    "y_fit = slope * x_fit + intercept\n",
    "plt.plot(x_fit, y_fit, color='red', label = 'Line of Best Fit')\n",
    "\n",
    "plt.axline([0, 0], [1, 1], label = 'x = y')\n",
    "\n",
    "# Show plot\n",
    "plt.xlabel('X-axis')\n",
    "plt.ylabel('Y-axis')\n",
    "plt.title('Scatter Plot with Line of Best Fit')\n",
    "plt.legend()\n",
    "plt.show()"
   ]
  },
  {
   "cell_type": "code",
   "execution_count": 25,
   "id": "e8548d00-9023-4e58-b438-d88462094608",
   "metadata": {},
   "outputs": [
    {
     "name": "stdout",
     "output_type": "stream",
     "text": [
      "\n",
      "Linear Regression Model Weights (Coefficients):\n",
      "  Inoculum size (cell/ml): 0.38640263367236277\n",
      "  COD (g/L): 3.009603172169038\n",
      "  Oil and grease (g/L): 1.8999430708604672\n",
      "  TKN: -0.5407429020312943\n",
      "  Olive oil (%): 0.6817146312052075\n",
      "  Glucose (g/L): 0.3811549579732571\n",
      "  Crude glycerol (%): -2.8104183561981615\n",
      "  Tween 20 (%): 0.06197353759257063\n",
      "  Tween 80 (%): 0.061973537592566866\n",
      "  Peptone (g/L): 0.38115495797326077\n",
      "  Ammonium sulfate (g/L): -0.09831297505129252\n",
      "  Yeast extract (g/L): -0.1456087445311399\n",
      "  Urea (g /L): -0.04983579688333617\n",
      "  Total nitrogen (g/L): -2.6113344392019826\n",
      "  Mono- sodium glutam ate (g/l): 0.07717606721511248\n",
      "  Di- potassium hydrogen phosphat e (g/l): 0.0771760672151036\n",
      "  Magnesium chloride (g/l): 0.07717606721510549\n",
      "  Iron(III) chloride (g/l): 0.07717606721510421\n",
      "  Potassium Di-hydrogen phosphate (g/l): 0.07717606721510338\n",
      "  Calcium chloride (g/l): 0.07717606721510338\n",
      "  Sodium chloride (g/l): 0.07717606721510421\n",
      "  Temp (C): -1.1073111473749777\n",
      "  Shakin g rate (rpm): 1.1073111473749728\n",
      "  pH: -0.44702677604939317\n",
      "  Time (h): 1.507171439641874\n",
      "\n",
      "Linear Regression Model Intercept:\n",
      "  3.4926244343891377\n"
     ]
    }
   ],
   "source": [
    "weights = lr_model.coef_\n",
    "intercept = lr_model.intercept_\n",
    "\n",
    "print(\"\\nLinear Regression Model Weights (Coefficients):\")\n",
    "for feature, weight in zip(X.columns, weights):\n",
    "  print(f\"  {feature}: {weight}\")\n",
    "\n",
    "print(\"\\nLinear Regression Model Intercept:\")\n",
    "print(f\"  {intercept}\")"
   ]
  },
  {
   "cell_type": "markdown",
   "id": "c7f5bb4d-d804-475f-b593-48a8b593301b",
   "metadata": {},
   "source": [
    "## XGBoost Regression"
   ]
  },
  {
   "cell_type": "code",
   "execution_count": 27,
   "id": "3241768b-61fd-49a0-ae8a-ff47e7f6d53f",
   "metadata": {},
   "outputs": [],
   "source": [
    "xgb_model = xgb.XGBRegressor(n_estimators = 100, max_depth = 4, random_state = 42)\n",
    "xgb_model.fit(X_train_scaled, y_train)\n",
    "y_pred_xgb = xgb_model.predict(X_test_scaled)"
   ]
  },
  {
   "cell_type": "code",
   "execution_count": 28,
   "id": "c7240961-aace-45af-a070-39110cca8149",
   "metadata": {},
   "outputs": [
    {
     "name": "stdout",
     "output_type": "stream",
     "text": [
      "\n",
      "XGBoost:\n",
      "  RMSE: 0.9999986187840261\n",
      "  R²: 0.8897315674960339\n"
     ]
    }
   ],
   "source": [
    "print(\"\\nXGBoost:\")\n",
    "print(\"  RMSE:\", np.sqrt(mean_squared_error(y_test, y_pred_xgb)))\n",
    "print(\"  R²:\", r2_score(y_test, y_pred_xgb))"
   ]
  },
  {
   "cell_type": "code",
   "execution_count": 29,
   "id": "f6974def-9901-4007-be9f-9b963ac5952a",
   "metadata": {},
   "outputs": [
    {
     "data": {
      "image/png": "[encoded data removed]",
      "text/plain": [
       "<Figure size 640x480 with 1 Axes>"
      ]
     },
     "metadata": {},
     "output_type": "display_data"
    }
   ],
   "source": [
    "xgb.plot_importance(xgb_model)\n",
    "plt.title(\"XGBoost Feature Importance\")\n",
    "plt.show()"
   ]
  },
  {
   "cell_type": "code",
   "execution_count": 30,
   "id": "6c215613-00d6-4f21-ab0b-9970eb52a256",
   "metadata": {},
   "outputs": [
    {
     "data": {
      "text/plain": [
       "'Time (h)'"
      ]
     },
     "execution_count": 30,
     "metadata": {},
     "output_type": "execute_result"
    }
   ],
   "source": [
    "X_train.columns[24]"
   ]
  },
  {
   "cell_type": "code",
   "execution_count": 31,
   "id": "1ab13c63-641f-421d-b617-f0f929cef88d",
   "metadata": {},
   "outputs": [
    {
     "data": {
      "text/plain": [
       "'COD (g/L)'"
      ]
     },
     "execution_count": 31,
     "metadata": {},
     "output_type": "execute_result"
    }
   ],
   "source": [
    "X_train.columns[1]"
   ]
  },
  {
   "cell_type": "code",
   "execution_count": 32,
   "id": "cb5a1899-88f7-439d-80bd-722173264a34",
   "metadata": {},
   "outputs": [
    {
     "data": {
      "text/plain": [
       "'Crude glycerol (%)'"
      ]
     },
     "execution_count": 32,
     "metadata": {},
     "output_type": "execute_result"
    }
   ],
   "source": [
    "X_train.columns[6]"
   ]
  },
  {
   "cell_type": "code",
   "execution_count": 33,
   "id": "13af59c5-df8d-4882-9e72-5a5a3fcf0283",
   "metadata": {},
   "outputs": [
    {
     "data": {
      "text/plain": [
       "'Oil and grease (g/L)'"
      ]
     },
     "execution_count": 33,
     "metadata": {},
     "output_type": "execute_result"
    }
   ],
   "source": [
    "X_train.columns[2]"
   ]
  },
  {
   "cell_type": "code",
   "execution_count": 34,
   "id": "915d990a-7209-45df-b376-8ff6d7d83b0e",
   "metadata": {},
   "outputs": [],
   "source": [
    "y_pred_xgb = xgb_model.predict(X_test_scaled)"
   ]
  },
  {
   "cell_type": "code",
   "execution_count": 35,
   "id": "962f6340-dd86-499e-9ab8-c2b29bb6f2cc",
   "metadata": {},
   "outputs": [
    {
     "name": "stdout",
     "output_type": "stream",
     "text": [
      "1.1048380949382506\n",
      "-0.20084399411145798\n"
     ]
    },
    {
     "data": {
      "image/png": "[encoded data removed]",
      "text/plain": [
       "<Figure size 640x480 with 1 Axes>"
      ]
     },
     "metadata": {},
     "output_type": "display_data"
    }
   ],
   "source": [
    "# Create scatter plot\n",
    "\n",
    "slope, intercept = np.polyfit(y_pred_xgb, y_test, 1)\n",
    "print(slope)\n",
    "print(intercept)\n",
    "\n",
    "plt.scatter(y_pred_xgb, y_test, color='blue')\n",
    "\n",
    "x_fit = np.linspace(y_pred_xgb.min(), y_pred_xgb.max(), 100)\n",
    "y_fit = slope * x_fit + intercept\n",
    "plt.plot(x_fit, y_fit, color='red', label='Line of Best Fit')\n",
    "\n",
    "plt.axline([0, 0], [1, 1], label = 'x = y')\n",
    "\n",
    "# Show plot\n",
    "plt.xlabel('X-axis')\n",
    "plt.ylabel('Y-axis')\n",
    "plt.title('Scatter Plot with Line of Best Fit')\n",
    "plt.legend()\n",
    "plt.show()"
   ]
  },
  {
   "cell_type": "markdown",
   "id": "8dce1520-f139-41cd-afbe-691199a41276",
   "metadata": {},
   "source": [
    "## Support Vector Machine (SVM) Regression"
   ]
  },
  {
   "cell_type": "code",
   "execution_count": 37,
   "id": "da5b507f-ad1d-4fe8-8900-670587a2c9f8",
   "metadata": {},
   "outputs": [],
   "source": [
    "svr_model = SVR()\n",
    "svr_model.fit(X_train_scaled, y_train)\n",
    "y_pred_svr = svr_model.predict(X_test_scaled)"
   ]
  },
  {
   "cell_type": "code",
   "execution_count": 38,
   "id": "4c1b29a5-9171-4d03-8725-fbcb2a5df3d5",
   "metadata": {},
   "outputs": [
    {
     "name": "stdout",
     "output_type": "stream",
     "text": [
      "\n",
      "SVR:\n",
      "  RMSE: 1.943040030846813\n",
      "  R²: 0.5836909069132838\n"
     ]
    }
   ],
   "source": [
    "print(\"\\nSVR:\")\n",
    "print(\"  RMSE:\", np.sqrt(mean_squared_error(y_test, y_pred_svr)))\n",
    "print(\"  R²:\", r2_score(y_test, y_pred_svr))"
   ]
  },
  {
   "cell_type": "code",
   "execution_count": 39,
   "id": "128f68c1-6a7e-474b-889b-78f7317b28fc",
   "metadata": {},
   "outputs": [
    {
     "name": "stdout",
     "output_type": "stream",
     "text": [
      "1.4249476152149991\n",
      "-1.331339043473944\n"
     ]
    },
    {
     "data": {
      "image/png": "[encoded data removed]",
      "text/plain": [
       "<Figure size 640x480 with 1 Axes>"
      ]
     },
     "metadata": {},
     "output_type": "display_data"
    }
   ],
   "source": [
    "# Create scatter plot\n",
    "\n",
    "slope, intercept = np.polyfit(y_pred_svr, y_test, 1)\n",
    "print(slope)\n",
    "print(intercept)\n",
    "\n",
    "plt.scatter(y_pred_svr, y_test, color='blue')\n",
    "\n",
    "x_fit = np.linspace(y_pred_svr.min(), y_pred_svr.max(), 100)\n",
    "y_fit = slope * x_fit + intercept\n",
    "plt.plot(x_fit, y_fit, color='red', label='Line of Best Fit')\n",
    "\n",
    "plt.axline([0, 0], [1, 1], label = 'x = y')\n",
    "\n",
    "# Show plot\n",
    "plt.xlabel('X-axis')\n",
    "plt.ylabel('Y-axis')\n",
    "plt.title('Scatter Plot with Line of Best Fit')\n",
    "plt.legend()\n",
    "plt.show()"
   ]
  },
  {
   "cell_type": "markdown",
   "id": "d90ea903-8251-4303-9a7f-1a69d1c027ed",
   "metadata": {},
   "source": [
    " ## Compare Algorithms"
   ]
  },
  {
   "cell_type": "code",
   "execution_count": 40,
   "id": "e8dfc06e-9750-4d9e-8a97-55e511d9bc5e",
   "metadata": {},
   "outputs": [],
   "source": [
    "seed = 42"
   ]
  },
  {
   "cell_type": "code",
   "execution_count": 42,
   "id": "899a6fb1-ef4e-40ff-b297-53f7c851fed9",
   "metadata": {},
   "outputs": [],
   "source": [
    "models = []\n",
    "models.append(('LR', LinearRegression()))\n",
    "models.append(('XGB', xgb.XGBRegressor(n_estimators = 100, max_depth = 4, random_state = 42)))\n",
    "models.append(('SVR', SVR()))"
   ]
  },
  {
   "cell_type": "code",
   "execution_count": 43,
   "id": "58d3020d-5f06-4df7-83a4-106c19852099",
   "metadata": {},
   "outputs": [
    {
     "data": {
      "text/plain": [
       "[('LR', LinearRegression()),\n",
       " ('XGB',\n",
       "  XGBRegressor(base_score=None, booster=None, callbacks=None,\n",
       "               colsample_bylevel=None, colsample_bynode=None,\n",
       "               colsample_bytree=None, device=None, early_stopping_rounds=None,\n",
       "               enable_categorical=False, eval_metric=None, feature_types=None,\n",
       "               feature_weights=None, gamma=None, grow_policy=None,\n",
       "               importance_type=None, interaction_constraints=None,\n",
       "               learning_rate=None, max_bin=None, max_cat_threshold=None,\n",
       "               max_cat_to_onehot=None, max_delta_step=None, max_depth=4,\n",
       "               max_leaves=None, min_child_weight=None, missing=nan,\n",
       "               monotone_constraints=None, multi_strategy=None, n_estimators=100,\n",
       "               n_jobs=None, num_parallel_tree=None, ...)),\n",
       " ('SVR', SVR())]"
      ]
     },
     "execution_count": 43,
     "metadata": {},
     "output_type": "execute_result"
    }
   ],
   "source": [
    "models"
   ]
  },
  {
   "cell_type": "code",
   "execution_count": 48,
   "id": "c0cb9030-f16f-4391-957d-a5639fb225f7",
   "metadata": {},
   "outputs": [
    {
     "name": "stdout",
     "output_type": "stream",
     "text": [
      "LR: -1.384860 (1.234562)\n",
      "XGB: -0.857516 (0.969369)\n",
      "SVR: -1.776530 (1.337186)\n"
     ]
    }
   ],
   "source": [
    "# evaluate each model in turn\n",
    "results = []\n",
    "names = []\n",
    "scoring = 'neg_mean_absolute_error'\n",
    "for name, model in models:\n",
    "\tkfold = model_selection.KFold(n_splits = 10)\n",
    "\tcv_results = model_selection.cross_val_score(model, X, y, cv = kfold, scoring = scoring)\n",
    "\tresults.append(cv_results)\n",
    "\tnames.append(name)\n",
    "\tmsg = \"%s: %f (%f)\" % (name, cv_results.mean(), cv_results.std())\n",
    "\tprint(msg)"
   ]
  },
  {
   "cell_type": "code",
   "execution_count": 50,
   "id": "2bab82a1-f056-404f-b6c2-4356f529d270",
   "metadata": {},
   "outputs": [
    {
     "data": {
      "image/png": "[encoded data removed]",
      "text/plain": [
       "<Figure size 640x480 with 1 Axes>"
      ]
     },
     "metadata": {},
     "output_type": "display_data"
    }
   ],
   "source": [
    "# boxplot algorithm comparison\n",
    "fig = plt.figure()\n",
    "fig.suptitle('Algorithm Comparison')\n",
    "ax = fig.add_subplot(111)\n",
    "plt.boxplot(results)\n",
    "plt.ylabel('neg_mean_absolute_error')\n",
    "ax.set_xticklabels(names)\n",
    "plt.show()\f"
   ]
  },
  {
   "cell_type": "code",
   "execution_count": null,
   "id": "ad59711a-aef1-4ed6-9eed-50272cae87d7",
   "metadata": {},
   "outputs": [],
   "source": []
  }
 ],
 "metadata": {
  "kernelspec": {
   "display_name": "mlenv",
   "language": "python",
   "name": "mlenv"
  },
  "language_info": {
   "codemirror_mode": {
    "name": "ipython",
    "version": 3
   },
   "file_extension": ".py",
   "mimetype": "text/x-python",
   "name": "python",
   "nbconvert_exporter": "python",
   "pygments_lexer": "ipython3",
   "version": "3.10.18"
  }
 },
 "nbformat": 4,
 "nbformat_minor": 5
}
